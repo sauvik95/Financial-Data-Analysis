{
 "cells": [
  {
   "cell_type": "markdown",
   "id": "fc0ab500",
   "metadata": {},
   "source": [
    "### Import relevant libraries"
   ]
  },
  {
   "cell_type": "code",
   "execution_count": 1,
   "id": "c608c67a",
   "metadata": {},
   "outputs": [],
   "source": [
    "# Import libraries\n",
    "\n",
    "import pandas as pd\n",
    "import datetime\n",
    "import numpy as np\n",
    "from time import time\n",
    "import statsmodels.api as sm\n",
    "from sklearn.model_selection import train_test_split\n",
    "from sklearn.linear_model import LinearRegression\n",
    "from sklearn.metrics import mean_squared_error, r2_score\n",
    "import matplotlib.pyplot as plt\n",
    "from matplotlib.dates import YearLocator, DateFormatter\n",
    "from statsmodels.formula.api import ols\n",
    "from statsmodels.stats.anova import anova_lm\n",
    "import scipy.stats as stats\n",
    "import statsmodels.formula.api as smf"
   ]
  },
  {
   "cell_type": "markdown",
   "id": "63c5116d",
   "metadata": {},
   "source": [
    "### User-defined functions "
   ]
  },
  {
   "cell_type": "code",
   "execution_count": 2,
   "id": "88afa10f",
   "metadata": {},
   "outputs": [],
   "source": [
    "'''\n",
    "    Function to extract the data from a cell using data attribute \n",
    "    \n",
    "    Returns: Extracted data values from the cell\n",
    "'''\n",
    "\n",
    "def extract_data(cell):\n",
    "    return cell.data"
   ]
  },
  {
   "cell_type": "code",
   "execution_count": 3,
   "id": "ed263479",
   "metadata": {},
   "outputs": [],
   "source": [
    "# Data Cleaning and Analysis\n",
    "final_df = pd.read_csv('S&P100_Data.csv')    # Contains each stock in the S&P100 index\n",
    "sp_100 = pd.read_csv('^OEX.csv')  # Contains OHLC data for S&P100 index\n",
    "\n",
    "# Cleaning data and setting index values\n",
    "final_df.set_index('Date', inplace=True)\n",
    "sp_100.set_index('Date',inplace=True)\n",
    "\n",
    "# Drop METV and MLSS owing to large number of missing values\n",
    "final_df = final_df.drop(columns=['METV','MLSS'])\n",
    "final_df\n",
    "\n",
    "# Cleaning SP100 Data and calculating Returns \n",
    "sp_100 = pd.DataFrame(sp_100['Adj Close'])\n",
    "sp_100 = sp_100.rename(columns={'Adj Close':'SP_100'})\n",
    "sp_100['Returns'] = sp_100.pct_change()*100\n",
    "sp_100 = sp_100.dropna()\n",
    "sp_100_df = sp_100.drop('SP_100', axis = 1)\n",
    "sp_100_df.columns = ['SP_100']\n",
    "\n",
    "sp_100_ret = np.array(sp_100['Returns']).reshape(-1,1)  # Create a 1D numpy array of response variable"
   ]
  },
  {
   "cell_type": "markdown",
   "id": "c55e5e38",
   "metadata": {},
   "source": [
    "## Construct a full regression model"
   ]
  },
  {
   "cell_type": "code",
   "execution_count": 4,
   "id": "b02c1b1f",
   "metadata": {},
   "outputs": [],
   "source": [
    "# Train a multiple linear regression model \n",
    "X = sm.add_constant(final_df)  # Add a constant term to the features dataset\n",
    "\n",
    "# Fitting full regression model using OLS method\n",
    "model = sm.OLS(sp_100_ret, X).fit()\n",
    "\n",
    "full_model_summary = model.summary()\n",
    "\n",
    "# Save coefficients table for full model\n",
    "df_full_model = pd.DataFrame(full_model_summary.tables[1][1:], columns = full_model_summary.tables[1][0])\n",
    "\n",
    "# Converting index and columns to string and rename index\n",
    "df_full_model.columns = df_full_model.columns.astype(str)\n",
    "col = df_full_model.columns.to_list()\n",
    "col[0] = 'Name'\n",
    "df_full_model.columns = col\n",
    "df_full_model.set_index('Name', inplace = True)\n",
    "df_full_model.index = [str(cell.data) for cell in df_full_model.index]\n",
    "\n",
    "# Convert dataframe values to float \n",
    "df_full_model = df_full_model.applymap(extract_data)\n",
    "df_full_model = df_full_model.astype(float)\n",
    "\n",
    "# Save full model variables in elem1\n",
    "elem1 = df_full_model.index.to_list()\n",
    "\n",
    "# Save Coefficients for full model in elem2\n",
    "elem2 = df_full_model.iloc[:,0].to_list()\n",
    "\n",
    "string_list = [elem1[i+1] + ' * ' + str(elem2[i+1]) for i, val in enumerate(elem1[:-1])]\n",
    "\n",
    "string_full_model = str(elem2[0])\n",
    "\n",
    "ls1 = [elem1[i+1] for i, val in enumerate(elem1[:-1])]\n",
    "string1 = ls1[0]\n",
    "\n",
    "for i, val in enumerate(string_list):\n",
    "    string_full_model = string_full_model + ' + '\n",
    "    string_full_model = string_full_model + val\n",
    "    if i>0:\n",
    "        string1 = string1 + '+' + ls1[i]\n",
    "    \n",
    "string_full_model = 'SP_100 ~ ' + string_full_model\n",
    "string1 = 'SP_100~' + string1"
   ]
  },
  {
   "cell_type": "markdown",
   "id": "286ae483",
   "metadata": {},
   "source": [
    "### Full Regression Model\n",
    "#### SP_100 = -0.0296 + ORCL * 0.012 + MSFT * 0.0639 + HON * 0.0026 + KO * 0.009 + XOM * 0.0155 + GD * -0.0039 + GE * 0.0058 + CHTR * -0.0016 + GM * 0.0039 + IBM * 0.0015 + META * 0.0308 + ABBV * 0.006 + PEP * 0.0175 + MO * 0.0022 + COP * 0.0076 + AMGN * 0.012 + CVX * 0.0175 + GOOG * 0.0047 + AAPL * 0.0852 + TXN * 0.0114 + CVS * 0.0096 + BH * 0.0015 + RTX * -0.0016 + PG * 0.0206 + SO * -0.0095 + CAT * 0.0034 + CL * 0.0056 + BMY * 0.0038 + WBA * -0.0037 + BA * 0.0112 + ABT * 0.0057 + LMT * 0.0094 + EXC * 0.0085 + PFE * 0.0128 + EMR * 0.0049 + JNJ * 0.0263 + MMM * -5.842e-05 + MRK * 0.0128 + NEE * 0.0194 + F * 0.0062 + DIS * 0.0227 + DUK * -0.0052 + WFC * 0.0167 + MCD * 0.0085 + JPM * 0.0292 + UNP * 0.0092 + TGT * 0.0067 + BK * 0.0048 + DHR * 0.0163 + LLY * 0.0143 + WMT * 0.0109 + NKE * 0.0075 + AXP * 0.004 + INTC * 0.0132 + BAC * 0.0091 + MDT * -0.0009 + FDX * 0.0026 + AMD * 0.0028 + LOW * 0.009 + TMO * 0.0155 + VZ * 0.0163 + T * 0.0141 + USB * -0.0143 + HD * 0.0076 + AIG * -0.0004 + MS * 0.0068 + C * -0.0023 + SCHW * 0.001 + ADBE * 0.0182 + CSCO * 0.004 + QCOM * 0.0168 + GILD * 0.0065 + SBUX * 0.0036 + SPG * -0.0037 + COF * 0.004 + AMZN * 0.0377 + AMT * 0.0092 + NVDA * 0.0091 + BKNG * 0.0038 + GS * 0.0077 + COST * 0.0237 + BLK * 0.0229 + UPS * 0.0143 + MET * 0.0132 + MDLZ * -0.0044 + ACN * 0.0146 + NFLX * 0.0046 + CMCSA * 0.0183 + CRM * 0.0077 + GOOGL * 0.0405 + MA * 0.0064 + TMUS * -0.0011 + PM * 0.0034 + V * 0.0073 + UNH * 0.0151 + AVGO * -0.0049 + TSLA * 0.0103 + ε\n",
    "\n",
    "#### where ε is the error term"
   ]
  },
  {
   "cell_type": "markdown",
   "id": "83832a62",
   "metadata": {},
   "source": [
    "## Use partial F-statistics and backward elimination to select variables from the full regression model in 1. Write down the selected model."
   ]
  },
  {
   "cell_type": "markdown",
   "id": "2fc25e26",
   "metadata": {},
   "source": [
    "### Model Selected using Backward Elimination"
   ]
  },
  {
   "cell_type": "code",
   "execution_count": 5,
   "id": "1087e467",
   "metadata": {
    "scrolled": false
   },
   "outputs": [],
   "source": [
    "# Determine most significant variables using critical p value = 0.5%\n",
    "df_significant = df_full_model[df_full_model['P>|t|'] < 0.005]\n",
    "\n",
    "# Contains variables selected using backward elimination\n",
    "columns = df_significant.index.tolist()[1:]  \n",
    "\n",
    "# Add constant to the explanatory variables matrix\n",
    "X_selected = sm.add_constant(final_df[columns])\n",
    "\n",
    "# Fitting OLS regression model for selected variables\n",
    "selected_model = sm.OLS(sp_100_ret, X_selected).fit()\n",
    "\n",
    "# Summary of OLS regression model using selected variables\n",
    "selected_model_summary = selected_model.summary()\n",
    "\n",
    "# Save coefficients table for selected model\n",
    "df_selected_model = pd.DataFrame(selected_model_summary.tables[1], columns=selected_model_summary.tables[1][0])\n",
    "df_selected_model = df_selected_model.iloc[1:,:]\n",
    "\n",
    "ls = df_selected_model.columns.to_list()\n",
    "ls[0] = 'Name'\n",
    "df_selected_model.columns = ls\n",
    "df_selected_model.set_index('Name', inplace = True)\n",
    "\n",
    "df_selected_model = df_selected_model.applymap(extract_data)\n",
    "df_selected_model = df_selected_model.astype(float)\n",
    "\n",
    "# Save selected variables in elem1\n",
    "elem1 = df_selected_model.index.to_list()\n",
    "\n",
    "# Save Coefficients for selected model in elem2\n",
    "elem2 = df_selected_model.iloc[:,0].to_list()\n",
    "\n",
    "string_list = [elem1[i+1].data + ' * ' + str(elem2[i+1]) for i, val in enumerate(elem1[:-1])]\n",
    "\n",
    "ls2 = [elem1[i+1].data for i, val in enumerate(elem1[:-1])]\n",
    "string2 = ls1[0]\n",
    "\n",
    "string_selected_model = str(elem2[0])\n",
    "for i, val in enumerate(string_list):\n",
    "    string_selected_model = string_selected_model + ' + '\n",
    "    string_selected_model = string_selected_model + val\n",
    "    if i>0:\n",
    "        string2 = string2 + ' + ' + ls2[i]\n",
    "    \n",
    "string_selected_model = 'SP_100 ~ ' + string_selected_model\n",
    "string2 = 'SP_100 ~ ' + string2"
   ]
  },
  {
   "cell_type": "markdown",
   "id": "b171efc3",
   "metadata": {},
   "source": [
    "### Selected Regression Model through Backward Elimination\n",
    "\n",
    "#### SP_100 = -0.0295 + ORCL * 0.0132 + MSFT * 0.0809 + XOM * 0.0177 + GE * 0.0068 + META * 0.0391 + PEP * 0.023 + COP * 0.0092 + AMGN * 0.0148 + CVX * 0.0194 + AAPL * 0.0867 + TXN * 0.0125 + CVS * 0.007 + PG * 0.0252 + BA * 0.0142 + LMT * 0.0068 + PFE * 0.0138 + JNJ * 0.0288 + MRK * 0.0156 + NEE * 0.0142 + F * 0.0093 + DIS * 0.028 + WFC * 0.0231 + JPM * 0.0449 + UNP * 0.0129 + TGT * 0.0055 + DHR * 0.0169 + LLY * 0.0138 + WMT * 0.0092 + NKE * 0.0107 + INTC * 0.0131 + AMD * 0.0028 + LOW * 0.0135 + TMO * 0.02 + VZ * 0.0137 + T * 0.0166 + USB * -0.0109 + ADBE * 0.0212 + QCOM * 0.0176 + GILD * 0.0084 + AMZN * 0.0452 + AMT * 0.0071 + NVDA * 0.0109 + COST * 0.0247 + BLK * 0.0283 + UPS * 0.0149 + MET * 0.0202 + ACN * 0.0228 + NFLX * 0.0043 + CMCSA * 0.0184 + CRM * 0.0084 + UNH * 0.0217 + TSLA * 0.0102 + ε\n",
    "\n",
    "#### where ε is the error term"
   ]
  },
  {
   "cell_type": "markdown",
   "id": "f3f32a5f",
   "metadata": {},
   "source": [
    "## Compare the full and selected models. Summarize your comparison in an ANOVA table."
   ]
  },
  {
   "cell_type": "markdown",
   "id": "01e78daf",
   "metadata": {},
   "source": [
    "## Comparison of Selected and Full Models\n",
    "1. F-Statistic for full regression model ~ 1846 with dof1 = 97 & dof2 = 1916, P(F-statistic) = 0 and F statistic for selected regression model ~ 2819 with dof1 = 52 & dof2 = 1961, P(F-statistic) = 0 which shows both models are statistically significant. \n",
    "2. There isn't any major difference in the adjusted R-squared values for both models, indicating that both models fit the data equally well\n",
    "3. The AIC and BIC of full regression model is lower than the selected model, indicating a better model fit for the full regression model."
   ]
  },
  {
   "cell_type": "code",
   "execution_count": 6,
   "id": "9b9b0da3",
   "metadata": {},
   "outputs": [],
   "source": [
    "combined_full_model = pd.concat([sp_100_df,final_df],axis=1)\n",
    "combined_selected_model = pd.concat([sp_100_df,final_df[columns]],axis=1)"
   ]
  },
  {
   "cell_type": "code",
   "execution_count": 7,
   "id": "d039c962",
   "metadata": {},
   "outputs": [
    {
     "name": "stdout",
     "output_type": "stream",
     "text": [
      "\n",
      "ANOVA results\n",
      "              df       sum_sq      mean_sq             F        PR(>F)\n",
      "ORCL         1.0  1301.869373  1301.869373  81324.061460  0.000000e+00\n",
      "MSFT         1.0   902.044776   902.044776  56348.160807  0.000000e+00\n",
      "HON          1.0   235.743128   235.743128  14726.199926  0.000000e+00\n",
      "KO           1.0    38.846780    38.846780   2426.647383  0.000000e+00\n",
      "XOM          1.0    49.261116    49.261116   3077.201191  0.000000e+00\n",
      "...          ...          ...          ...           ...           ...\n",
      "V            1.0     0.045679     0.045679      2.853450  9.134076e-02\n",
      "UNH          1.0     0.513566     0.513566     32.080972  1.702722e-08\n",
      "AVGO         1.0     0.046705     0.046705      2.917500  8.778552e-02\n",
      "TSLA         1.0     1.749192     1.749192    109.267009  6.541237e-25\n",
      "Residual  1916.0    30.672124     0.016008           NaN           NaN\n",
      "\n",
      "[98 rows x 5 columns]\n"
     ]
    }
   ],
   "source": [
    "# FULL MODEL ANOVA\n",
    "lr1 = ols(formula=string1,data = combined_full_model).fit()\n",
    "anova = sm.stats.anova_lm(lr1)\n",
    "print('\\nANOVA results')\n",
    "print(anova)"
   ]
  },
  {
   "cell_type": "code",
   "execution_count": 8,
   "id": "58598280",
   "metadata": {},
   "outputs": [
    {
     "name": "stdout",
     "output_type": "stream",
     "text": [
      "\n",
      "ANOVA results\n",
      "              df       sum_sq      mean_sq             F         PR(>F)\n",
      "ORCL         1.0  1301.869373  1301.869373  66737.920470   0.000000e+00\n",
      "MSFT         1.0   902.044776   902.044776  46241.653541   0.000000e+00\n",
      "XOM          1.0   189.931163   189.931163   9736.469047   0.000000e+00\n",
      "GE           1.0    51.080247    51.080247   2618.534186   0.000000e+00\n",
      "META         1.0    69.548192    69.548192   3565.259151   0.000000e+00\n",
      "PEP          1.0    70.387834    70.387834   3608.301827   0.000000e+00\n",
      "COP          1.0     4.512795     4.512795    231.340052   1.803789e-49\n",
      "AMGN         1.0    27.974468    27.974468   1434.059237  5.259346e-236\n",
      "CVX          1.0     4.767839     4.767839    244.414444   5.172440e-52\n",
      "AAPL         1.0    67.632757    67.632757   3467.067923   0.000000e+00\n",
      "TXN          1.0    17.838039    17.838039    914.434025  3.307790e-165\n",
      "CVS          1.0     8.656309     8.656309    443.749627   5.713688e-89\n",
      "PG           1.0     3.955779     3.955779    202.785679   7.317064e-44\n",
      "BA           1.0    17.838077    17.838077    914.435978  3.305585e-165\n",
      "LMT          1.0     0.840179     0.840179     43.070241   6.739229e-11\n",
      "PFE          1.0     5.309089     5.309089    272.160582   2.340883e-57\n",
      "JNJ          1.0     2.563668     2.563668    131.421705   1.702629e-29\n",
      "MRK          1.0     1.272735     1.272735     65.244398   1.143541e-15\n",
      "NEE          1.0     3.486577     3.486577    178.732917   4.457110e-39\n",
      "F            1.0    11.496610    11.496610    589.352428  4.740356e-114\n",
      "DIS          1.0    14.604379    14.604379    748.666424  6.834259e-140\n",
      "WFC          1.0    11.626772    11.626772    596.024899  3.641762e-115\n",
      "JPM          1.0     6.395505     6.395505    327.853686   7.000067e-68\n",
      "UNP          1.0     2.308620     2.308620    118.347129   8.342547e-27\n",
      "TGT          1.0     4.875409     4.875409    249.928805   4.426258e-53\n",
      "DHR          1.0     7.809059     7.809059    400.316924   3.439167e-81\n",
      "LLY          1.0     1.097820     1.097820     56.277723   9.483866e-14\n",
      "WMT          1.0     0.995280     0.995280     51.021183   1.282420e-12\n",
      "NKE          1.0     2.620479     2.620479    134.333979   4.309938e-30\n",
      "INTC         1.0     1.582492     1.582492     81.123508   4.895485e-19\n",
      "AMD          1.0     3.249176     3.249176    166.562997   1.235352e-36\n",
      "LOW          1.0     2.339041     2.339041    119.906606   3.975776e-27\n",
      "TMO          1.0     1.916338     1.916338     98.237532   1.250725e-22\n",
      "VZ           1.0     0.670350     0.670350     34.364253   5.349475e-09\n",
      "T            1.0     0.869733     0.869733     44.585268   3.160706e-11\n",
      "USB          1.0     0.156729     0.156729      8.034445   4.636618e-03\n",
      "ADBE         1.0     5.740741     5.740741    294.288452   1.432266e-61\n",
      "QCOM         1.0     2.876706     2.876706    147.469009   9.011660e-33\n",
      "GILD         1.0     0.354409     0.354409     18.168117   2.118297e-05\n",
      "AMZN         1.0    11.693464    11.693464    599.443783  9.803732e-116\n",
      "AMT          1.0     0.364906     0.364906     18.706213   1.601406e-05\n",
      "NVDA         1.0     1.405799     1.405799     72.065675   4.044432e-17\n",
      "COST         1.0     1.429972     1.429972     73.304869   2.207561e-17\n",
      "BLK          1.0     2.531511     2.531511    129.773214   3.709059e-29\n",
      "UPS          1.0     0.644543     0.644543     33.041327   1.043913e-08\n",
      "MET          1.0     0.529199     0.529199     27.128426   2.103451e-07\n",
      "ACN          1.0     0.901932     0.901932     46.235894   1.386968e-11\n",
      "NFLX         1.0     0.480157     0.480157     24.614376   7.606791e-07\n",
      "CMCSA        1.0     0.814200     0.814200     41.738476   1.312397e-10\n",
      "CRM          1.0     0.396753     0.396753     20.338792   6.870752e-06\n",
      "UNH          1.0     1.225269     1.225269     62.811160   3.781544e-15\n",
      "TSLA         1.0     1.798708     1.798708     92.207425   2.284493e-21\n",
      "Residual  1961.0    38.253602     0.019507           NaN            NaN\n"
     ]
    }
   ],
   "source": [
    "# SELECTED MODEL ANOVA\n",
    "lr2 = ols(formula=string2,data = combined_selected_model).fit()\n",
    "anova_selected = sm.stats.anova_lm(lr2)\n",
    "print('\\nANOVA results')\n",
    "print(anova_selected)"
   ]
  },
  {
   "cell_type": "markdown",
   "id": "0aa97218",
   "metadata": {},
   "source": [
    "### Comparison of full regression model and selected regression model using F statistic"
   ]
  },
  {
   "cell_type": "code",
   "execution_count": 9,
   "id": "fcfc513c",
   "metadata": {},
   "outputs": [
    {
     "data": {
      "text/plain": [
       "10.52429452726153"
      ]
     },
     "execution_count": 9,
     "metadata": {},
     "output_type": "execute_result"
    }
   ],
   "source": [
    "RSS_selected = anova_selected.iloc[-1,1]\n",
    "RSS_full = anova.iloc[-1,1]\n",
    "\n",
    "p = anova_selected.shape[0] - 1   # Number of selected variables\n",
    "k = anova.shape[0] - 1            # Number of actual variables\n",
    "T = final_df.shape[0]             # Number of data points\n",
    "\n",
    "F = (RSS_selected - RSS_full)*(T-k-1)/((k-p)*RSS_full)\n",
    "F"
   ]
  },
  {
   "cell_type": "markdown",
   "id": "3b42f1aa",
   "metadata": {},
   "source": [
    "### F statistic  = 10.525 is significantly larger than critical F value for dof1 = 45 and dof2 = 1916 (p < 0.0001). This means that the complex model (with 97 stocks) fits the S&P 100 returns better than the simplified model (with 52 stocks). "
   ]
  },
  {
   "cell_type": "markdown",
   "id": "68a17647",
   "metadata": {},
   "source": [
    "## For the selected regression model in (b), perform residual diagnostics."
   ]
  },
  {
   "cell_type": "code",
   "execution_count": 10,
   "id": "de29368a",
   "metadata": {},
   "outputs": [
    {
     "data": {
      "image/png": "[encoded data removed]",
      "text/plain": [
       "<Figure size 864x432 with 2 Axes>"
      ]
     },
     "metadata": {
      "needs_background": "light"
     },
     "output_type": "display_data"
    },
    {
     "data": {
      "image/png": "[encoded data removed]",
      "text/plain": [
       "<Figure size 864x432 with 2 Axes>"
      ]
     },
     "metadata": {
      "needs_background": "light"
     },
     "output_type": "display_data"
    }
   ],
   "source": [
    "# Residual Plots And QQ Plots for full model\n",
    "\n",
    "# Create subplots\n",
    "fig, (ax1, ax2) = plt.subplots(1, 2, figsize=(12, 6))\n",
    "\n",
    "# Residual Plot\n",
    "ax1.scatter(model.fittedvalues, model.resid)\n",
    "ax1.set_xlabel('Fitted Values')\n",
    "ax1.set_ylabel('Residuals')\n",
    "ax1.set_title('Residual Plot for Full Model')\n",
    "ax1.axhline(y=0, color='r', linestyle='--')\n",
    "\n",
    "# QQ Plot\n",
    "sm.graphics.qqplot(model.resid, dist=stats.norm, line='45', fit=True, ax=ax2)\n",
    "ax2.set_title(\"Q-Q Plot for Full Model\")\n",
    "\n",
    "# Show the plots\n",
    "plt.tight_layout()\n",
    "plt.show()\n",
    "\n",
    "# Residual plots and QQ plots for selected model\n",
    "\n",
    "# Create subplots\n",
    "fig, (ax1, ax2) = plt.subplots(1, 2, figsize=(12, 6))\n",
    "\n",
    "# Residual Plot\n",
    "ax1.scatter(selected_model.fittedvalues, selected_model.resid)\n",
    "ax1.set_xlabel('Fitted Values')\n",
    "ax1.set_ylabel('Residuals')\n",
    "ax1.set_title('Residual Plot for Selected Model')\n",
    "ax1.axhline(y=0, color='r', linestyle='--')\n",
    "\n",
    "# QQ Plot\n",
    "sm.graphics.qqplot(selected_model.resid, dist=stats.norm, line='45', fit=True, ax=ax2)\n",
    "ax2.set_title(\"Q-Q Plot for Selected Model\")\n",
    "\n",
    "# Show the plots\n",
    "plt.tight_layout()\n",
    "plt.show()"
   ]
  },
  {
   "cell_type": "markdown",
   "id": "bd5ec73d",
   "metadata": {},
   "source": [
    "### From the residual plots for both the models we can observe that the residuals are randomly scattered around the point zero with presense of a few outliers. The QQ plots also verify the same results with most residuals lying on the Y=X axis with a few outliers indicating heavier tails at the extremes."
   ]
  },
  {
   "cell_type": "markdown",
   "id": "0b0a0f84",
   "metadata": {},
   "source": [
    "### We have used the step-wise forward selection procedure for identifying at most 5 stocks for the OLS regression analysis. The step-wise forward selection starts with an empty model and then identifies the first stock for which the regression analysis gives lowest AIC. Then the model keeps on adding one stock at a time such that the new combination of stocks used as explanatory variables in the OLS regression model gives the least AIC as well. \n",
    "\n",
    "### The selected five stock model is as shown\n",
    "### SP_100 = -0.0003 + MSFT * 0.0019 + JPM * 0.0021 + AAPL * 0.0016 + PEP * 0.0017 + GOOGL * 0.0013 + ε\n",
    "\n",
    "### where ε is the residual term"
   ]
  },
  {
   "cell_type": "code",
   "execution_count": 11,
   "id": "ec28215f",
   "metadata": {},
   "outputs": [
    {
     "name": "stdout",
     "output_type": "stream",
     "text": [
      "                            OLS Regression Results                            \n",
      "==============================================================================\n",
      "Dep. Variable:                 SP_100   R-squared:                       0.925\n",
      "Model:                            OLS   Adj. R-squared:                  0.925\n",
      "Method:                 Least Squares   F-statistic:                     4951.\n",
      "Date:                Sun, 10 Sep 2023   Prob (F-statistic):               0.00\n",
      "Time:                        22:22:31   Log-Likelihood:                -616.05\n",
      "No. Observations:                2014   AIC:                             1244.\n",
      "Df Residuals:                    2008   BIC:                             1278.\n",
      "Df Model:                           5                                         \n",
      "Covariance Type:            nonrobust                                         \n",
      "==============================================================================\n",
      "                 coef    std err          t      P>|t|      [0.025      0.975]\n",
      "------------------------------------------------------------------------------\n",
      "Intercept     -0.0289      0.007     -3.933      0.000      -0.043      -0.014\n",
      "MSFT           0.1863      0.007     25.537      0.000       0.172       0.201\n",
      "JPM            0.2090      0.005     42.521      0.000       0.199       0.219\n",
      "AAPL           0.1580      0.006     27.366      0.000       0.147       0.169\n",
      "PEP            0.1723      0.007     23.372      0.000       0.158       0.187\n",
      "GOOGL          0.1319      0.006     20.390      0.000       0.119       0.145\n",
      "==============================================================================\n",
      "Omnibus:                      175.289   Durbin-Watson:                   1.938\n",
      "Prob(Omnibus):                  0.000   Jarque-Bera (JB):              761.003\n",
      "Skew:                          -0.309   Prob(JB):                    5.63e-166\n",
      "Kurtosis:                       5.947   Cond. No.                         3.71\n",
      "==============================================================================\n",
      "\n",
      "Notes:\n",
      "[1] Standard Errors assume that the covariance matrix of the errors is correctly specified.\n"
     ]
    }
   ],
   "source": [
    "all_stocks = final_df.columns.to_list()\n",
    "\n",
    "stock_list = []\n",
    "\n",
    "current_aic, least_aic = float('inf'), float('inf')  # Initialize with a high value\n",
    "\n",
    "while current_aic == least_aic and len(stock_list) < 5:  \n",
    "    ls = []\n",
    "\n",
    "    for candidate in all_stocks:\n",
    "        string = \"{} ~ {} + 1\".format(sp_100_df.columns[0], ' + '.join(stock_list + [candidate]))\n",
    "        score = smf.ols(string, combined_full_model).fit().aic\n",
    "        ls.append((score, candidate))\n",
    "\n",
    "    ls.sort()\n",
    "    least_aic, best_aic = ls[0]\n",
    "\n",
    "    if current_aic > least_aic:\n",
    "        all_stocks.remove(best_aic)\n",
    "        stock_list.append(best_aic)\n",
    "        current_aic = least_aic\n",
    "\n",
    "string = \"{} ~ {} + 1\".format(sp_100_df.columns[0], ' + '.join(stock_list))\n",
    "five_stock_model = smf.ols(string, combined_full_model).fit()\n",
    "\n",
    "print(five_stock_model.summary())"
   ]
  }
 ],
 "metadata": {
  "kernelspec": {
   "display_name": "Python 3 (ipykernel)",
   "language": "python",
   "name": "python3"
  },
  "language_info": {
   "codemirror_mode": {
    "name": "ipython",
    "version": 3
   },
   "file_extension": ".py",
   "mimetype": "text/x-python",
   "name": "python",
   "nbconvert_exporter": "python",
   "pygments_lexer": "ipython3",
   "version": "3.9.13"
  }
 },
 "nbformat": 4,
 "nbformat_minor": 5
}
